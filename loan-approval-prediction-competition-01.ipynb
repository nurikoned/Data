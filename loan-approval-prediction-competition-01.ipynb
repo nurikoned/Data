{
 "cells": [
  {
   "cell_type": "code",
   "execution_count": 1,
   "id": "1426a7d2",
   "metadata": {
    "_cell_guid": "b1076dfc-b9ad-4769-8c92-a6c4dae69d19",
    "_uuid": "8f2839f25d086af736a60e9eeb907d3b93b6e0e5",
    "execution": {
     "iopub.execute_input": "2024-10-21T15:42:28.963235Z",
     "iopub.status.busy": "2024-10-21T15:42:28.962679Z",
     "iopub.status.idle": "2024-10-21T15:42:29.696452Z",
     "shell.execute_reply": "2024-10-21T15:42:29.695141Z"
    },
    "papermill": {
     "duration": 0.749027,
     "end_time": "2024-10-21T15:42:29.699402",
     "exception": false,
     "start_time": "2024-10-21T15:42:28.950375",
     "status": "completed"
    },
    "tags": []
   },
   "outputs": [
    {
     "name": "stdout",
     "output_type": "stream",
     "text": [
      "/kaggle/input/playground-series-s4e10/sample_submission.csv\n",
      "/kaggle/input/playground-series-s4e10/train.csv\n",
      "/kaggle/input/playground-series-s4e10/test.csv\n"
     ]
    }
   ],
   "source": [
    "# This Python 3 environment comes with many helpful analytics libraries installed\n",
    "# It is defined by the kaggle/python Docker image: https://github.com/kaggle/docker-python\n",
    "# For example, here's several helpful packages to load\n",
    "\n",
    "import numpy as np # linear algebra\n",
    "import pandas as pd # data processing, CSV file I/O (e.g. pd.read_csv)\n",
    "\n",
    "# Input data files are available in the read-only \"../input/\" directory\n",
    "# For example, running this (by clicking run or pressing Shift+Enter) will list all files under the input directory\n",
    "\n",
    "import os\n",
    "for dirname, _, filenames in os.walk('/kaggle/input'):\n",
    "    for filename in filenames:\n",
    "        print(os.path.join(dirname, filename))\n",
    "\n",
    "# You can write up to 20GB to the current directory (/kaggle/working/) that gets preserved as output when you create a version using \"Save & Run All\" \n",
    "# You can also write temporary files to /kaggle/temp/, but they won't be saved outside of the current session"
   ]
  },
  {
   "cell_type": "code",
   "execution_count": 2,
   "id": "99d42406",
   "metadata": {
    "execution": {
     "iopub.execute_input": "2024-10-21T15:42:29.722429Z",
     "iopub.status.busy": "2024-10-21T15:42:29.721871Z",
     "iopub.status.idle": "2024-10-21T15:42:31.599338Z",
     "shell.execute_reply": "2024-10-21T15:42:31.598389Z"
    },
    "papermill": {
     "duration": 1.892364,
     "end_time": "2024-10-21T15:42:31.601930",
     "exception": false,
     "start_time": "2024-10-21T15:42:29.709566",
     "status": "completed"
    },
    "tags": []
   },
   "outputs": [],
   "source": [
    "import optuna\n",
    "from imblearn.over_sampling import SMOTE\n",
    "from imblearn.combine import SMOTEENN"
   ]
  },
  {
   "cell_type": "code",
   "execution_count": 3,
   "id": "2580c6dd",
   "metadata": {
    "execution": {
     "iopub.execute_input": "2024-10-21T15:42:31.624078Z",
     "iopub.status.busy": "2024-10-21T15:42:31.623173Z",
     "iopub.status.idle": "2024-10-21T15:42:31.873590Z",
     "shell.execute_reply": "2024-10-21T15:42:31.872396Z"
    },
    "papermill": {
     "duration": 0.26425,
     "end_time": "2024-10-21T15:42:31.876227",
     "exception": false,
     "start_time": "2024-10-21T15:42:31.611977",
     "status": "completed"
    },
    "tags": []
   },
   "outputs": [],
   "source": [
    "df = pd.read_csv(\"/kaggle/input/playground-series-s4e10/train.csv\")\n",
    "df_valid = pd.read_csv(\"/kaggle/input/playground-series-s4e10/test.csv\")\n",
    "test = pd.read_csv(\"/kaggle/input/playground-series-s4e10/sample_submission.csv\")"
   ]
  },
  {
   "cell_type": "code",
   "execution_count": 4,
   "id": "58b44b47",
   "metadata": {
    "execution": {
     "iopub.execute_input": "2024-10-21T15:42:31.898600Z",
     "iopub.status.busy": "2024-10-21T15:42:31.898179Z",
     "iopub.status.idle": "2024-10-21T15:42:31.923882Z",
     "shell.execute_reply": "2024-10-21T15:42:31.922438Z"
    },
    "papermill": {
     "duration": 0.039899,
     "end_time": "2024-10-21T15:42:31.926354",
     "exception": false,
     "start_time": "2024-10-21T15:42:31.886455",
     "status": "completed"
    },
    "tags": []
   },
   "outputs": [
    {
     "data": {
      "text/html": [
       "<div>\n",
       "<style scoped>\n",
       "    .dataframe tbody tr th:only-of-type {\n",
       "        vertical-align: middle;\n",
       "    }\n",
       "\n",
       "    .dataframe tbody tr th {\n",
       "        vertical-align: top;\n",
       "    }\n",
       "\n",
       "    .dataframe thead th {\n",
       "        text-align: right;\n",
       "    }\n",
       "</style>\n",
       "<table border=\"1\" class=\"dataframe\">\n",
       "  <thead>\n",
       "    <tr style=\"text-align: right;\">\n",
       "      <th></th>\n",
       "      <th>id</th>\n",
       "      <th>loan_status</th>\n",
       "    </tr>\n",
       "  </thead>\n",
       "  <tbody>\n",
       "    <tr>\n",
       "      <th>0</th>\n",
       "      <td>58645</td>\n",
       "      <td>0.5</td>\n",
       "    </tr>\n",
       "    <tr>\n",
       "      <th>1</th>\n",
       "      <td>58646</td>\n",
       "      <td>0.5</td>\n",
       "    </tr>\n",
       "    <tr>\n",
       "      <th>2</th>\n",
       "      <td>58647</td>\n",
       "      <td>0.5</td>\n",
       "    </tr>\n",
       "    <tr>\n",
       "      <th>3</th>\n",
       "      <td>58648</td>\n",
       "      <td>0.5</td>\n",
       "    </tr>\n",
       "    <tr>\n",
       "      <th>4</th>\n",
       "      <td>58649</td>\n",
       "      <td>0.5</td>\n",
       "    </tr>\n",
       "    <tr>\n",
       "      <th>...</th>\n",
       "      <td>...</td>\n",
       "      <td>...</td>\n",
       "    </tr>\n",
       "    <tr>\n",
       "      <th>39093</th>\n",
       "      <td>97738</td>\n",
       "      <td>0.5</td>\n",
       "    </tr>\n",
       "    <tr>\n",
       "      <th>39094</th>\n",
       "      <td>97739</td>\n",
       "      <td>0.5</td>\n",
       "    </tr>\n",
       "    <tr>\n",
       "      <th>39095</th>\n",
       "      <td>97740</td>\n",
       "      <td>0.5</td>\n",
       "    </tr>\n",
       "    <tr>\n",
       "      <th>39096</th>\n",
       "      <td>97741</td>\n",
       "      <td>0.5</td>\n",
       "    </tr>\n",
       "    <tr>\n",
       "      <th>39097</th>\n",
       "      <td>97742</td>\n",
       "      <td>0.5</td>\n",
       "    </tr>\n",
       "  </tbody>\n",
       "</table>\n",
       "<p>39098 rows × 2 columns</p>\n",
       "</div>"
      ],
      "text/plain": [
       "          id  loan_status\n",
       "0      58645          0.5\n",
       "1      58646          0.5\n",
       "2      58647          0.5\n",
       "3      58648          0.5\n",
       "4      58649          0.5\n",
       "...      ...          ...\n",
       "39093  97738          0.5\n",
       "39094  97739          0.5\n",
       "39095  97740          0.5\n",
       "39096  97741          0.5\n",
       "39097  97742          0.5\n",
       "\n",
       "[39098 rows x 2 columns]"
      ]
     },
     "execution_count": 4,
     "metadata": {},
     "output_type": "execute_result"
    }
   ],
   "source": [
    "test"
   ]
  },
  {
   "cell_type": "code",
   "execution_count": 5,
   "id": "a01be78b",
   "metadata": {
    "execution": {
     "iopub.execute_input": "2024-10-21T15:42:31.948410Z",
     "iopub.status.busy": "2024-10-21T15:42:31.947989Z",
     "iopub.status.idle": "2024-10-21T15:42:31.965263Z",
     "shell.execute_reply": "2024-10-21T15:42:31.964184Z"
    },
    "papermill": {
     "duration": 0.031016,
     "end_time": "2024-10-21T15:42:31.967616",
     "exception": false,
     "start_time": "2024-10-21T15:42:31.936600",
     "status": "completed"
    },
    "tags": []
   },
   "outputs": [
    {
     "data": {
      "text/html": [
       "<div>\n",
       "<style scoped>\n",
       "    .dataframe tbody tr th:only-of-type {\n",
       "        vertical-align: middle;\n",
       "    }\n",
       "\n",
       "    .dataframe tbody tr th {\n",
       "        vertical-align: top;\n",
       "    }\n",
       "\n",
       "    .dataframe thead th {\n",
       "        text-align: right;\n",
       "    }\n",
       "</style>\n",
       "<table border=\"1\" class=\"dataframe\">\n",
       "  <thead>\n",
       "    <tr style=\"text-align: right;\">\n",
       "      <th></th>\n",
       "      <th>id</th>\n",
       "      <th>person_age</th>\n",
       "      <th>person_income</th>\n",
       "      <th>person_home_ownership</th>\n",
       "      <th>person_emp_length</th>\n",
       "      <th>loan_intent</th>\n",
       "      <th>loan_grade</th>\n",
       "      <th>loan_amnt</th>\n",
       "      <th>loan_int_rate</th>\n",
       "      <th>loan_percent_income</th>\n",
       "      <th>cb_person_default_on_file</th>\n",
       "      <th>cb_person_cred_hist_length</th>\n",
       "      <th>loan_status</th>\n",
       "    </tr>\n",
       "  </thead>\n",
       "  <tbody>\n",
       "    <tr>\n",
       "      <th>0</th>\n",
       "      <td>0</td>\n",
       "      <td>37</td>\n",
       "      <td>35000</td>\n",
       "      <td>RENT</td>\n",
       "      <td>0.0</td>\n",
       "      <td>EDUCATION</td>\n",
       "      <td>B</td>\n",
       "      <td>6000</td>\n",
       "      <td>11.49</td>\n",
       "      <td>0.17</td>\n",
       "      <td>N</td>\n",
       "      <td>14</td>\n",
       "      <td>0</td>\n",
       "    </tr>\n",
       "    <tr>\n",
       "      <th>1</th>\n",
       "      <td>1</td>\n",
       "      <td>22</td>\n",
       "      <td>56000</td>\n",
       "      <td>OWN</td>\n",
       "      <td>6.0</td>\n",
       "      <td>MEDICAL</td>\n",
       "      <td>C</td>\n",
       "      <td>4000</td>\n",
       "      <td>13.35</td>\n",
       "      <td>0.07</td>\n",
       "      <td>N</td>\n",
       "      <td>2</td>\n",
       "      <td>0</td>\n",
       "    </tr>\n",
       "    <tr>\n",
       "      <th>2</th>\n",
       "      <td>2</td>\n",
       "      <td>29</td>\n",
       "      <td>28800</td>\n",
       "      <td>OWN</td>\n",
       "      <td>8.0</td>\n",
       "      <td>PERSONAL</td>\n",
       "      <td>A</td>\n",
       "      <td>6000</td>\n",
       "      <td>8.90</td>\n",
       "      <td>0.21</td>\n",
       "      <td>N</td>\n",
       "      <td>10</td>\n",
       "      <td>0</td>\n",
       "    </tr>\n",
       "    <tr>\n",
       "      <th>3</th>\n",
       "      <td>3</td>\n",
       "      <td>30</td>\n",
       "      <td>70000</td>\n",
       "      <td>RENT</td>\n",
       "      <td>14.0</td>\n",
       "      <td>VENTURE</td>\n",
       "      <td>B</td>\n",
       "      <td>12000</td>\n",
       "      <td>11.11</td>\n",
       "      <td>0.17</td>\n",
       "      <td>N</td>\n",
       "      <td>5</td>\n",
       "      <td>0</td>\n",
       "    </tr>\n",
       "    <tr>\n",
       "      <th>4</th>\n",
       "      <td>4</td>\n",
       "      <td>22</td>\n",
       "      <td>60000</td>\n",
       "      <td>RENT</td>\n",
       "      <td>2.0</td>\n",
       "      <td>MEDICAL</td>\n",
       "      <td>A</td>\n",
       "      <td>6000</td>\n",
       "      <td>6.92</td>\n",
       "      <td>0.10</td>\n",
       "      <td>N</td>\n",
       "      <td>3</td>\n",
       "      <td>0</td>\n",
       "    </tr>\n",
       "  </tbody>\n",
       "</table>\n",
       "</div>"
      ],
      "text/plain": [
       "   id  person_age  person_income person_home_ownership  person_emp_length  \\\n",
       "0   0          37          35000                  RENT                0.0   \n",
       "1   1          22          56000                   OWN                6.0   \n",
       "2   2          29          28800                   OWN                8.0   \n",
       "3   3          30          70000                  RENT               14.0   \n",
       "4   4          22          60000                  RENT                2.0   \n",
       "\n",
       "  loan_intent loan_grade  loan_amnt  loan_int_rate  loan_percent_income  \\\n",
       "0   EDUCATION          B       6000          11.49                 0.17   \n",
       "1     MEDICAL          C       4000          13.35                 0.07   \n",
       "2    PERSONAL          A       6000           8.90                 0.21   \n",
       "3     VENTURE          B      12000          11.11                 0.17   \n",
       "4     MEDICAL          A       6000           6.92                 0.10   \n",
       "\n",
       "  cb_person_default_on_file  cb_person_cred_hist_length  loan_status  \n",
       "0                         N                          14            0  \n",
       "1                         N                           2            0  \n",
       "2                         N                          10            0  \n",
       "3                         N                           5            0  \n",
       "4                         N                           3            0  "
      ]
     },
     "execution_count": 5,
     "metadata": {},
     "output_type": "execute_result"
    }
   ],
   "source": [
    "df.head()"
   ]
  },
  {
   "cell_type": "code",
   "execution_count": 6,
   "id": "96d03ab5",
   "metadata": {
    "execution": {
     "iopub.execute_input": "2024-10-21T15:42:31.990362Z",
     "iopub.status.busy": "2024-10-21T15:42:31.989574Z",
     "iopub.status.idle": "2024-10-21T15:42:32.023421Z",
     "shell.execute_reply": "2024-10-21T15:42:32.022298Z"
    },
    "papermill": {
     "duration": 0.047894,
     "end_time": "2024-10-21T15:42:32.025960",
     "exception": false,
     "start_time": "2024-10-21T15:42:31.978066",
     "status": "completed"
    },
    "tags": []
   },
   "outputs": [
    {
     "name": "stdout",
     "output_type": "stream",
     "text": [
      "<class 'pandas.core.frame.DataFrame'>\n",
      "RangeIndex: 58645 entries, 0 to 58644\n",
      "Data columns (total 13 columns):\n",
      " #   Column                      Non-Null Count  Dtype  \n",
      "---  ------                      --------------  -----  \n",
      " 0   id                          58645 non-null  int64  \n",
      " 1   person_age                  58645 non-null  int64  \n",
      " 2   person_income               58645 non-null  int64  \n",
      " 3   person_home_ownership       58645 non-null  object \n",
      " 4   person_emp_length           58645 non-null  float64\n",
      " 5   loan_intent                 58645 non-null  object \n",
      " 6   loan_grade                  58645 non-null  object \n",
      " 7   loan_amnt                   58645 non-null  int64  \n",
      " 8   loan_int_rate               58645 non-null  float64\n",
      " 9   loan_percent_income         58645 non-null  float64\n",
      " 10  cb_person_default_on_file   58645 non-null  object \n",
      " 11  cb_person_cred_hist_length  58645 non-null  int64  \n",
      " 12  loan_status                 58645 non-null  int64  \n",
      "dtypes: float64(3), int64(6), object(4)\n",
      "memory usage: 5.8+ MB\n"
     ]
    }
   ],
   "source": [
    "df.info()"
   ]
  },
  {
   "cell_type": "code",
   "execution_count": 7,
   "id": "eca1ee89",
   "metadata": {
    "execution": {
     "iopub.execute_input": "2024-10-21T15:42:32.049347Z",
     "iopub.status.busy": "2024-10-21T15:42:32.048412Z",
     "iopub.status.idle": "2024-10-21T15:42:32.101846Z",
     "shell.execute_reply": "2024-10-21T15:42:32.100717Z"
    },
    "papermill": {
     "duration": 0.067672,
     "end_time": "2024-10-21T15:42:32.104229",
     "exception": false,
     "start_time": "2024-10-21T15:42:32.036557",
     "status": "completed"
    },
    "tags": []
   },
   "outputs": [
    {
     "data": {
      "text/html": [
       "<div>\n",
       "<style scoped>\n",
       "    .dataframe tbody tr th:only-of-type {\n",
       "        vertical-align: middle;\n",
       "    }\n",
       "\n",
       "    .dataframe tbody tr th {\n",
       "        vertical-align: top;\n",
       "    }\n",
       "\n",
       "    .dataframe thead th {\n",
       "        text-align: right;\n",
       "    }\n",
       "</style>\n",
       "<table border=\"1\" class=\"dataframe\">\n",
       "  <thead>\n",
       "    <tr style=\"text-align: right;\">\n",
       "      <th></th>\n",
       "      <th>id</th>\n",
       "      <th>person_age</th>\n",
       "      <th>person_income</th>\n",
       "      <th>person_emp_length</th>\n",
       "      <th>loan_amnt</th>\n",
       "      <th>loan_int_rate</th>\n",
       "      <th>loan_percent_income</th>\n",
       "      <th>cb_person_cred_hist_length</th>\n",
       "      <th>loan_status</th>\n",
       "    </tr>\n",
       "  </thead>\n",
       "  <tbody>\n",
       "    <tr>\n",
       "      <th>count</th>\n",
       "      <td>58645.000000</td>\n",
       "      <td>58645.000000</td>\n",
       "      <td>5.864500e+04</td>\n",
       "      <td>58645.000000</td>\n",
       "      <td>58645.000000</td>\n",
       "      <td>58645.000000</td>\n",
       "      <td>58645.000000</td>\n",
       "      <td>58645.000000</td>\n",
       "      <td>58645.000000</td>\n",
       "    </tr>\n",
       "    <tr>\n",
       "      <th>mean</th>\n",
       "      <td>29322.000000</td>\n",
       "      <td>27.550857</td>\n",
       "      <td>6.404617e+04</td>\n",
       "      <td>4.701015</td>\n",
       "      <td>9217.556518</td>\n",
       "      <td>10.677874</td>\n",
       "      <td>0.159238</td>\n",
       "      <td>5.813556</td>\n",
       "      <td>0.142382</td>\n",
       "    </tr>\n",
       "    <tr>\n",
       "      <th>std</th>\n",
       "      <td>16929.497605</td>\n",
       "      <td>6.033216</td>\n",
       "      <td>3.793111e+04</td>\n",
       "      <td>3.959784</td>\n",
       "      <td>5563.807384</td>\n",
       "      <td>3.034697</td>\n",
       "      <td>0.091692</td>\n",
       "      <td>4.029196</td>\n",
       "      <td>0.349445</td>\n",
       "    </tr>\n",
       "    <tr>\n",
       "      <th>min</th>\n",
       "      <td>0.000000</td>\n",
       "      <td>20.000000</td>\n",
       "      <td>4.200000e+03</td>\n",
       "      <td>0.000000</td>\n",
       "      <td>500.000000</td>\n",
       "      <td>5.420000</td>\n",
       "      <td>0.000000</td>\n",
       "      <td>2.000000</td>\n",
       "      <td>0.000000</td>\n",
       "    </tr>\n",
       "    <tr>\n",
       "      <th>25%</th>\n",
       "      <td>14661.000000</td>\n",
       "      <td>23.000000</td>\n",
       "      <td>4.200000e+04</td>\n",
       "      <td>2.000000</td>\n",
       "      <td>5000.000000</td>\n",
       "      <td>7.880000</td>\n",
       "      <td>0.090000</td>\n",
       "      <td>3.000000</td>\n",
       "      <td>0.000000</td>\n",
       "    </tr>\n",
       "    <tr>\n",
       "      <th>50%</th>\n",
       "      <td>29322.000000</td>\n",
       "      <td>26.000000</td>\n",
       "      <td>5.800000e+04</td>\n",
       "      <td>4.000000</td>\n",
       "      <td>8000.000000</td>\n",
       "      <td>10.750000</td>\n",
       "      <td>0.140000</td>\n",
       "      <td>4.000000</td>\n",
       "      <td>0.000000</td>\n",
       "    </tr>\n",
       "    <tr>\n",
       "      <th>75%</th>\n",
       "      <td>43983.000000</td>\n",
       "      <td>30.000000</td>\n",
       "      <td>7.560000e+04</td>\n",
       "      <td>7.000000</td>\n",
       "      <td>12000.000000</td>\n",
       "      <td>12.990000</td>\n",
       "      <td>0.210000</td>\n",
       "      <td>8.000000</td>\n",
       "      <td>0.000000</td>\n",
       "    </tr>\n",
       "    <tr>\n",
       "      <th>max</th>\n",
       "      <td>58644.000000</td>\n",
       "      <td>123.000000</td>\n",
       "      <td>1.900000e+06</td>\n",
       "      <td>123.000000</td>\n",
       "      <td>35000.000000</td>\n",
       "      <td>23.220000</td>\n",
       "      <td>0.830000</td>\n",
       "      <td>30.000000</td>\n",
       "      <td>1.000000</td>\n",
       "    </tr>\n",
       "  </tbody>\n",
       "</table>\n",
       "</div>"
      ],
      "text/plain": [
       "                 id    person_age  person_income  person_emp_length  \\\n",
       "count  58645.000000  58645.000000   5.864500e+04       58645.000000   \n",
       "mean   29322.000000     27.550857   6.404617e+04           4.701015   \n",
       "std    16929.497605      6.033216   3.793111e+04           3.959784   \n",
       "min        0.000000     20.000000   4.200000e+03           0.000000   \n",
       "25%    14661.000000     23.000000   4.200000e+04           2.000000   \n",
       "50%    29322.000000     26.000000   5.800000e+04           4.000000   \n",
       "75%    43983.000000     30.000000   7.560000e+04           7.000000   \n",
       "max    58644.000000    123.000000   1.900000e+06         123.000000   \n",
       "\n",
       "          loan_amnt  loan_int_rate  loan_percent_income  \\\n",
       "count  58645.000000   58645.000000         58645.000000   \n",
       "mean    9217.556518      10.677874             0.159238   \n",
       "std     5563.807384       3.034697             0.091692   \n",
       "min      500.000000       5.420000             0.000000   \n",
       "25%     5000.000000       7.880000             0.090000   \n",
       "50%     8000.000000      10.750000             0.140000   \n",
       "75%    12000.000000      12.990000             0.210000   \n",
       "max    35000.000000      23.220000             0.830000   \n",
       "\n",
       "       cb_person_cred_hist_length   loan_status  \n",
       "count                58645.000000  58645.000000  \n",
       "mean                     5.813556      0.142382  \n",
       "std                      4.029196      0.349445  \n",
       "min                      2.000000      0.000000  \n",
       "25%                      3.000000      0.000000  \n",
       "50%                      4.000000      0.000000  \n",
       "75%                      8.000000      0.000000  \n",
       "max                     30.000000      1.000000  "
      ]
     },
     "execution_count": 7,
     "metadata": {},
     "output_type": "execute_result"
    }
   ],
   "source": [
    "df.describe()"
   ]
  },
  {
   "cell_type": "code",
   "execution_count": 8,
   "id": "ec5c393f",
   "metadata": {
    "execution": {
     "iopub.execute_input": "2024-10-21T15:42:32.128450Z",
     "iopub.status.busy": "2024-10-21T15:42:32.127408Z",
     "iopub.status.idle": "2024-10-21T15:42:32.148675Z",
     "shell.execute_reply": "2024-10-21T15:42:32.147607Z"
    },
    "papermill": {
     "duration": 0.036006,
     "end_time": "2024-10-21T15:42:32.151188",
     "exception": false,
     "start_time": "2024-10-21T15:42:32.115182",
     "status": "completed"
    },
    "tags": []
   },
   "outputs": [
    {
     "data": {
      "text/plain": [
       "id                            0\n",
       "person_age                    0\n",
       "person_income                 0\n",
       "person_home_ownership         0\n",
       "person_emp_length             0\n",
       "loan_intent                   0\n",
       "loan_grade                    0\n",
       "loan_amnt                     0\n",
       "loan_int_rate                 0\n",
       "loan_percent_income           0\n",
       "cb_person_default_on_file     0\n",
       "cb_person_cred_hist_length    0\n",
       "loan_status                   0\n",
       "dtype: int64"
      ]
     },
     "execution_count": 8,
     "metadata": {},
     "output_type": "execute_result"
    }
   ],
   "source": [
    "df.isnull().sum()"
   ]
  },
  {
   "cell_type": "code",
   "execution_count": 9,
   "id": "ab157ea9",
   "metadata": {
    "execution": {
     "iopub.execute_input": "2024-10-21T15:42:32.174921Z",
     "iopub.status.busy": "2024-10-21T15:42:32.174492Z",
     "iopub.status.idle": "2024-10-21T15:42:32.179693Z",
     "shell.execute_reply": "2024-10-21T15:42:32.178565Z"
    },
    "papermill": {
     "duration": 0.019536,
     "end_time": "2024-10-21T15:42:32.181788",
     "exception": false,
     "start_time": "2024-10-21T15:42:32.162252",
     "status": "completed"
    },
    "tags": []
   },
   "outputs": [],
   "source": [
    "# df['loan_int_amount'] = df['loan_amnt'] * df['loan_int_rate']\n",
    "# df_valid['loan_int_amount'] = df_valid['loan_amnt'] * df['loan_int_rate']\n",
    "\n",
    "# df['loan_to_income_ratio'] = df['loan_amnt'] / df['person_income']\n",
    "# df_valid['loan_to_income_ratio'] = df_valid['loan_amnt'] / df_valid['person_income']\n",
    "\n",
    "\n",
    "# df['interest_to_income_ratio'] = df['loan_int_rate'] / df['person_income']\n",
    "# df_valid['interest_to_income_ratio'] = df_valid['loan_int_rate'] / df_valid['person_income']\n",
    "\n",
    "\n",
    "# df['debt_to_income_ratio'] = df['loan_percent_income'] * df['loan_amnt']\n",
    "# df_valid['debt_to_income_ratio'] = df_valid['loan_percent_income'] * df_valid['loan_amnt']\n",
    "\n",
    "# df = df.drop(columns=['loan_percent_income', 'loan_amnt', 'person_income', 'loan_int_rate'])\n",
    "# df_valid = df_valid.drop(columns=['loan_percent_income', 'loan_amnt', 'person_income', 'loan_int_rate'])\n"
   ]
  },
  {
   "cell_type": "code",
   "execution_count": 10,
   "id": "1519770c",
   "metadata": {
    "execution": {
     "iopub.execute_input": "2024-10-21T15:42:32.206469Z",
     "iopub.status.busy": "2024-10-21T15:42:32.205372Z",
     "iopub.status.idle": "2024-10-21T15:42:32.212514Z",
     "shell.execute_reply": "2024-10-21T15:42:32.211432Z"
    },
    "papermill": {
     "duration": 0.022009,
     "end_time": "2024-10-21T15:42:32.214904",
     "exception": false,
     "start_time": "2024-10-21T15:42:32.192895",
     "status": "completed"
    },
    "tags": []
   },
   "outputs": [
    {
     "data": {
      "text/plain": [
       "(58645, 13)"
      ]
     },
     "execution_count": 10,
     "metadata": {},
     "output_type": "execute_result"
    }
   ],
   "source": [
    "df.shape"
   ]
  },
  {
   "cell_type": "code",
   "execution_count": 11,
   "id": "d5584e5f",
   "metadata": {
    "execution": {
     "iopub.execute_input": "2024-10-21T15:42:32.239482Z",
     "iopub.status.busy": "2024-10-21T15:42:32.238647Z",
     "iopub.status.idle": "2024-10-21T15:42:32.610024Z",
     "shell.execute_reply": "2024-10-21T15:42:32.608964Z"
    },
    "papermill": {
     "duration": 0.386604,
     "end_time": "2024-10-21T15:42:32.612705",
     "exception": false,
     "start_time": "2024-10-21T15:42:32.226101",
     "status": "completed"
    },
    "tags": []
   },
   "outputs": [],
   "source": [
    "import matplotlib.pyplot as plt\n",
    "import seaborn as sns"
   ]
  },
  {
   "cell_type": "code",
   "execution_count": 12,
   "id": "b73c2076",
   "metadata": {
    "execution": {
     "iopub.execute_input": "2024-10-21T15:42:32.637475Z",
     "iopub.status.busy": "2024-10-21T15:42:32.636291Z",
     "iopub.status.idle": "2024-10-21T15:42:32.641532Z",
     "shell.execute_reply": "2024-10-21T15:42:32.640436Z"
    },
    "papermill": {
     "duration": 0.019796,
     "end_time": "2024-10-21T15:42:32.643815",
     "exception": false,
     "start_time": "2024-10-21T15:42:32.624019",
     "status": "completed"
    },
    "tags": []
   },
   "outputs": [],
   "source": [
    "# import matplotlib.pyplot as plt\n",
    "# import seaborn as sns\n",
    "\n",
    "# plt.figure(figsize = (12,6))\n",
    "# plt.subplot(1,2,1)\n",
    "# sns.histplot(df['person_age'], kde = True)\n",
    "# plt.xlabel(\"Person age\")\n",
    "# plt.ylabel('Frequency')\n",
    "# plt.title(\"Distribution of person age\")\n",
    "\n",
    "# plt.subplot(1,2,2)\n",
    "# sns.histplot(df['person_income'], kde = True)\n",
    "# plt.xlabel(\"Person income\")\n",
    "# plt.ylabel(\"Frequency\")\n",
    "# plt.title(\"Distribution of person income\")"
   ]
  },
  {
   "cell_type": "code",
   "execution_count": 13,
   "id": "d7ec6b2f",
   "metadata": {
    "execution": {
     "iopub.execute_input": "2024-10-21T15:42:32.668226Z",
     "iopub.status.busy": "2024-10-21T15:42:32.667416Z",
     "iopub.status.idle": "2024-10-21T15:42:32.672183Z",
     "shell.execute_reply": "2024-10-21T15:42:32.671141Z"
    },
    "papermill": {
     "duration": 0.019525,
     "end_time": "2024-10-21T15:42:32.674336",
     "exception": false,
     "start_time": "2024-10-21T15:42:32.654811",
     "status": "completed"
    },
    "tags": []
   },
   "outputs": [],
   "source": [
    "# import matplotlib.pyplot as plt\n",
    "# import seaborn as sns\n",
    "\n",
    "# plt.figure(figsize = (12,6))\n",
    "# plt.subplot(1,2,1)\n",
    "# sns.histplot(df['loan_amnt'], kde = True)\n",
    "# plt.xlabel(\"Loan Amount\")\n",
    "# plt.ylabel('Frequency')\n",
    "# plt.title(\"Distribution of Loan Amount\")\n",
    "\n",
    "# plt.subplot(1,2,2)\n",
    "# sns.histplot(df['loan_int_rate'], kde = True)\n",
    "# plt.xlabel(\"Loan Interest Rate\")\n",
    "# plt.ylabel(\"Frequency\")\n",
    "# plt.title(\"Distribution of Loan Interest Rate\")"
   ]
  },
  {
   "cell_type": "code",
   "execution_count": 14,
   "id": "e3bc54eb",
   "metadata": {
    "execution": {
     "iopub.execute_input": "2024-10-21T15:42:32.698091Z",
     "iopub.status.busy": "2024-10-21T15:42:32.697671Z",
     "iopub.status.idle": "2024-10-21T15:42:32.702881Z",
     "shell.execute_reply": "2024-10-21T15:42:32.701707Z"
    },
    "papermill": {
     "duration": 0.019731,
     "end_time": "2024-10-21T15:42:32.705105",
     "exception": false,
     "start_time": "2024-10-21T15:42:32.685374",
     "status": "completed"
    },
    "tags": []
   },
   "outputs": [],
   "source": [
    "# import matplotlib.pyplot as plt\n",
    "# import seaborn as sns\n",
    "\n",
    "# plt.figure(figsize = (12,6))\n",
    "# plt.subplot(1,2,1)\n",
    "# sns.histplot(df['loan_percent_income'], kde = True)\n",
    "# plt.xlabel(\"Loan Percent Income\")\n",
    "# plt.ylabel('Frequency')\n",
    "# plt.title(\"Distribution of Loan Percent Income\")\n",
    "\n",
    "# plt.subplot(1,2,2)\n",
    "# sns.histplot(df['loan_int_rate'], kde = True)\n",
    "# plt.xlabel(\"Loan Interest Rate\")\n",
    "# plt.ylabel(\"Frequency\")\n",
    "# plt.title(\"Distribution of Loan Interest Rate\")"
   ]
  },
  {
   "cell_type": "code",
   "execution_count": 15,
   "id": "cfb2788c",
   "metadata": {
    "execution": {
     "iopub.execute_input": "2024-10-21T15:42:32.729572Z",
     "iopub.status.busy": "2024-10-21T15:42:32.728626Z",
     "iopub.status.idle": "2024-10-21T15:42:32.733146Z",
     "shell.execute_reply": "2024-10-21T15:42:32.732125Z"
    },
    "papermill": {
     "duration": 0.019218,
     "end_time": "2024-10-21T15:42:32.735386",
     "exception": false,
     "start_time": "2024-10-21T15:42:32.716168",
     "status": "completed"
    },
    "tags": []
   },
   "outputs": [],
   "source": [
    "# sns.histplot(df['loan_status'])\n",
    "# plt.xlabel(\"Loan Status\")\n",
    "# plt.ylabel(\"Frequency\")\n",
    "# plt.title(\"Distribution of Loan Status\")"
   ]
  },
  {
   "cell_type": "code",
   "execution_count": 16,
   "id": "b5fab8ad",
   "metadata": {
    "execution": {
     "iopub.execute_input": "2024-10-21T15:42:32.759743Z",
     "iopub.status.busy": "2024-10-21T15:42:32.758813Z",
     "iopub.status.idle": "2024-10-21T15:42:33.379671Z",
     "shell.execute_reply": "2024-10-21T15:42:33.378518Z"
    },
    "papermill": {
     "duration": 0.636308,
     "end_time": "2024-10-21T15:42:33.382731",
     "exception": false,
     "start_time": "2024-10-21T15:42:32.746423",
     "status": "completed"
    },
    "tags": []
   },
   "outputs": [
    {
     "data": {
      "text/plain": [
       "<Axes: >"
      ]
     },
     "execution_count": 16,
     "metadata": {},
     "output_type": "execute_result"
    },
    {
     "data": {
      "image/png": "[encoded data removed]",
      "text/plain": [
       "<Figure size 640x480 with 2 Axes>"
      ]
     },
     "metadata": {},
     "output_type": "display_data"
    }
   ],
   "source": [
    "corr = df.select_dtypes(include=['float64','int64']).corr()\n",
    "sns.heatmap(corr, annot = True, cmap = 'crest')"
   ]
  },
  {
   "cell_type": "code",
   "execution_count": 17,
   "id": "981f7d06",
   "metadata": {
    "execution": {
     "iopub.execute_input": "2024-10-21T15:42:33.411115Z",
     "iopub.status.busy": "2024-10-21T15:42:33.410667Z",
     "iopub.status.idle": "2024-10-21T15:42:35.950603Z",
     "shell.execute_reply": "2024-10-21T15:42:35.949495Z"
    },
    "papermill": {
     "duration": 2.556519,
     "end_time": "2024-10-21T15:42:35.952988",
     "exception": false,
     "start_time": "2024-10-21T15:42:33.396469",
     "status": "completed"
    },
    "tags": []
   },
   "outputs": [
    {
     "data": {
      "text/html": [
       "<div>\n",
       "<style scoped>\n",
       "    .dataframe tbody tr th:only-of-type {\n",
       "        vertical-align: middle;\n",
       "    }\n",
       "\n",
       "    .dataframe tbody tr th {\n",
       "        vertical-align: top;\n",
       "    }\n",
       "\n",
       "    .dataframe thead th {\n",
       "        text-align: right;\n",
       "    }\n",
       "</style>\n",
       "<table border=\"1\" class=\"dataframe\">\n",
       "  <thead>\n",
       "    <tr style=\"text-align: right;\">\n",
       "      <th></th>\n",
       "      <th>Feature</th>\n",
       "      <th>Mutual Information</th>\n",
       "    </tr>\n",
       "  </thead>\n",
       "  <tbody>\n",
       "    <tr>\n",
       "      <th>0</th>\n",
       "      <td>id</td>\n",
       "      <td>0.000000</td>\n",
       "    </tr>\n",
       "    <tr>\n",
       "      <th>1</th>\n",
       "      <td>person_age</td>\n",
       "      <td>0.000025</td>\n",
       "    </tr>\n",
       "    <tr>\n",
       "      <th>2</th>\n",
       "      <td>person_income</td>\n",
       "      <td>0.096132</td>\n",
       "    </tr>\n",
       "    <tr>\n",
       "      <th>3</th>\n",
       "      <td>person_emp_length</td>\n",
       "      <td>0.006947</td>\n",
       "    </tr>\n",
       "    <tr>\n",
       "      <th>4</th>\n",
       "      <td>loan_amnt</td>\n",
       "      <td>0.016683</td>\n",
       "    </tr>\n",
       "    <tr>\n",
       "      <th>5</th>\n",
       "      <td>loan_int_rate</td>\n",
       "      <td>0.082466</td>\n",
       "    </tr>\n",
       "    <tr>\n",
       "      <th>6</th>\n",
       "      <td>loan_percent_income</td>\n",
       "      <td>0.081244</td>\n",
       "    </tr>\n",
       "    <tr>\n",
       "      <th>7</th>\n",
       "      <td>cb_person_cred_hist_length</td>\n",
       "      <td>0.000682</td>\n",
       "    </tr>\n",
       "  </tbody>\n",
       "</table>\n",
       "</div>"
      ],
      "text/plain": [
       "                      Feature  Mutual Information\n",
       "0                          id            0.000000\n",
       "1                  person_age            0.000025\n",
       "2               person_income            0.096132\n",
       "3           person_emp_length            0.006947\n",
       "4                   loan_amnt            0.016683\n",
       "5               loan_int_rate            0.082466\n",
       "6         loan_percent_income            0.081244\n",
       "7  cb_person_cred_hist_length            0.000682"
      ]
     },
     "execution_count": 17,
     "metadata": {},
     "output_type": "execute_result"
    }
   ],
   "source": [
    "from sklearn.feature_selection import mutual_info_classif\n",
    "\n",
    "Xm = df.select_dtypes(include=['float64','int64']).drop(columns = 'loan_status')\n",
    "ym = df['loan_status']\n",
    "\n",
    "mi_scores = mutual_info_classif(Xm, ym)\n",
    "\n",
    "mi_scores_df = pd.DataFrame({'Feature': Xm.columns, 'Mutual Information': mi_scores})\n",
    "mi_scores_df"
   ]
  },
  {
   "cell_type": "code",
   "execution_count": 18,
   "id": "96581668",
   "metadata": {
    "_kg_hide-output": true,
    "execution": {
     "iopub.execute_input": "2024-10-21T15:42:35.980865Z",
     "iopub.status.busy": "2024-10-21T15:42:35.979847Z",
     "iopub.status.idle": "2024-10-21T15:42:35.984872Z",
     "shell.execute_reply": "2024-10-21T15:42:35.983802Z"
    },
    "papermill": {
     "duration": 0.021354,
     "end_time": "2024-10-21T15:42:35.987127",
     "exception": false,
     "start_time": "2024-10-21T15:42:35.965773",
     "status": "completed"
    },
    "tags": []
   },
   "outputs": [],
   "source": [
    "#Not needed columns: person age, person emp length, cb person, try with and without them\n"
   ]
  },
  {
   "cell_type": "code",
   "execution_count": 19,
   "id": "1cceec3f",
   "metadata": {
    "execution": {
     "iopub.execute_input": "2024-10-21T15:42:36.014959Z",
     "iopub.status.busy": "2024-10-21T15:42:36.013969Z",
     "iopub.status.idle": "2024-10-21T15:42:36.025181Z",
     "shell.execute_reply": "2024-10-21T15:42:36.024029Z"
    },
    "papermill": {
     "duration": 0.027684,
     "end_time": "2024-10-21T15:42:36.027647",
     "exception": false,
     "start_time": "2024-10-21T15:42:35.999963",
     "status": "completed"
    },
    "tags": []
   },
   "outputs": [],
   "source": [
    "X = df.drop(columns = 'loan_status')\n",
    "y = df['loan_status']"
   ]
  },
  {
   "cell_type": "code",
   "execution_count": 20,
   "id": "969bd1e8",
   "metadata": {
    "execution": {
     "iopub.execute_input": "2024-10-21T15:42:36.055428Z",
     "iopub.status.busy": "2024-10-21T15:42:36.054700Z",
     "iopub.status.idle": "2024-10-21T15:42:36.087144Z",
     "shell.execute_reply": "2024-10-21T15:42:36.086047Z"
    },
    "papermill": {
     "duration": 0.048865,
     "end_time": "2024-10-21T15:42:36.089444",
     "exception": false,
     "start_time": "2024-10-21T15:42:36.040579",
     "status": "completed"
    },
    "tags": []
   },
   "outputs": [
    {
     "data": {
      "text/plain": [
       "((58633, 12), (12, 12), (58633,), (12,))"
      ]
     },
     "execution_count": 20,
     "metadata": {},
     "output_type": "execute_result"
    }
   ],
   "source": [
    "from sklearn.model_selection import train_test_split\n",
    "\n",
    "X_train, X_test, y_train, y_test = train_test_split(X, y, test_size = 0.0002, random_state = 42)\n",
    "\n",
    "X_train.shape, X_test.shape, y_train.shape, y_test.shape"
   ]
  },
  {
   "cell_type": "code",
   "execution_count": 21,
   "id": "b7c103b5",
   "metadata": {
    "execution": {
     "iopub.execute_input": "2024-10-21T15:42:36.117545Z",
     "iopub.status.busy": "2024-10-21T15:42:36.117157Z",
     "iopub.status.idle": "2024-10-21T15:42:36.171232Z",
     "shell.execute_reply": "2024-10-21T15:42:36.170093Z"
    },
    "papermill": {
     "duration": 0.071244,
     "end_time": "2024-10-21T15:42:36.174108",
     "exception": false,
     "start_time": "2024-10-21T15:42:36.102864",
     "status": "completed"
    },
    "tags": []
   },
   "outputs": [
    {
     "name": "stdout",
     "output_type": "stream",
     "text": [
      "Categorical columns with low cardinality are:  ['person_home_ownership', 'loan_intent', 'loan_grade', 'cb_person_default_on_file']\n",
      "Categorical columns with high cardinality are:  []\n",
      "Numerical columns are:  ['id', 'person_age', 'person_income', 'person_emp_length', 'loan_amnt', 'loan_int_rate', 'loan_percent_income', 'cb_person_cred_hist_length']\n"
     ]
    }
   ],
   "source": [
    "categorical_cols = [cname for cname in X_train.columns if \n",
    "                   X_train[cname].nunique() < 10 and\n",
    "                   X_train[cname].dtype == 'object']\n",
    "\n",
    "categorical_cols_high = [cname for cname in X_train.columns if \n",
    "                   X_train[cname].nunique() > 10 and\n",
    "                   X_train[cname].dtype == 'object']\n",
    "\n",
    "numerical_cols = [cname for cname in X_train.columns if\n",
    "                 X_train[cname].dtype in ['int64', 'float64']]\n",
    "\n",
    "print(\"Categorical columns with low cardinality are: \", categorical_cols)\n",
    "print(\"Categorical columns with high cardinality are: \", categorical_cols_high)\n",
    "print(\"Numerical columns are: \", numerical_cols)"
   ]
  },
  {
   "cell_type": "code",
   "execution_count": 22,
   "id": "8d4bc3eb",
   "metadata": {
    "execution": {
     "iopub.execute_input": "2024-10-21T15:42:36.202519Z",
     "iopub.status.busy": "2024-10-21T15:42:36.202094Z",
     "iopub.status.idle": "2024-10-21T15:42:36.207077Z",
     "shell.execute_reply": "2024-10-21T15:42:36.205978Z"
    },
    "papermill": {
     "duration": 0.022045,
     "end_time": "2024-10-21T15:42:36.209298",
     "exception": false,
     "start_time": "2024-10-21T15:42:36.187253",
     "status": "completed"
    },
    "tags": []
   },
   "outputs": [],
   "source": [
    "# for column in df[numerical_cols]:\n",
    "#     Q1 = df[column].quantile(0.25)\n",
    "#     Q3 = df[column].quantile(0.75)\n",
    "#     IQR = Q3 - Q1\n",
    "    \n",
    "#     # Define bounds for outliers\n",
    "#     lower_bound = Q1 - 1.5 * IQR\n",
    "#     upper_bound = Q3 + 1.5 * IQR\n",
    "    \n",
    "#     # Remove rows where the feature is outside the bounds (either too high or too low)\n",
    "#     df = df[(df[column] >= lower_bound) & (df[column] <= upper_bound)]\n"
   ]
  },
  {
   "cell_type": "code",
   "execution_count": 23,
   "id": "266fe619",
   "metadata": {
    "execution": {
     "iopub.execute_input": "2024-10-21T15:42:36.237621Z",
     "iopub.status.busy": "2024-10-21T15:42:36.237199Z",
     "iopub.status.idle": "2024-10-21T15:42:36.304611Z",
     "shell.execute_reply": "2024-10-21T15:42:36.303366Z"
    },
    "papermill": {
     "duration": 0.084967,
     "end_time": "2024-10-21T15:42:36.307386",
     "exception": false,
     "start_time": "2024-10-21T15:42:36.222419",
     "status": "completed"
    },
    "tags": []
   },
   "outputs": [],
   "source": [
    "X_train = pd.get_dummies(X_train, drop_first = True)\n",
    "X_test = pd.get_dummies(X_test, drop_first = True)\n",
    "df_valid = pd.get_dummies(df_valid, drop_first = True)"
   ]
  },
  {
   "cell_type": "code",
   "execution_count": 24,
   "id": "5c9b95f2",
   "metadata": {
    "execution": {
     "iopub.execute_input": "2024-10-21T15:42:36.335646Z",
     "iopub.status.busy": "2024-10-21T15:42:36.335245Z",
     "iopub.status.idle": "2024-10-21T15:42:36.340863Z",
     "shell.execute_reply": "2024-10-21T15:42:36.339765Z"
    },
    "papermill": {
     "duration": 0.022606,
     "end_time": "2024-10-21T15:42:36.343209",
     "exception": false,
     "start_time": "2024-10-21T15:42:36.320603",
     "status": "completed"
    },
    "tags": []
   },
   "outputs": [],
   "source": [
    "ids = df_valid['id']"
   ]
  },
  {
   "cell_type": "code",
   "execution_count": 25,
   "id": "5766071a",
   "metadata": {
    "execution": {
     "iopub.execute_input": "2024-10-21T15:42:36.372066Z",
     "iopub.status.busy": "2024-10-21T15:42:36.371236Z",
     "iopub.status.idle": "2024-10-21T15:42:36.375995Z",
     "shell.execute_reply": "2024-10-21T15:42:36.374866Z"
    },
    "papermill": {
     "duration": 0.021439,
     "end_time": "2024-10-21T15:42:36.378199",
     "exception": false,
     "start_time": "2024-10-21T15:42:36.356760",
     "status": "completed"
    },
    "tags": []
   },
   "outputs": [],
   "source": [
    "# smote = SMOTE(random_state=42)\n",
    "# smote_enn = SMOTEENN(random_state=42)\n",
    "\n",
    "# X_train, y_train = smote_enn.fit_resample(X_train, y_train)"
   ]
  },
  {
   "cell_type": "code",
   "execution_count": 26,
   "id": "1a3bcdd3",
   "metadata": {
    "execution": {
     "iopub.execute_input": "2024-10-21T15:42:36.406875Z",
     "iopub.status.busy": "2024-10-21T15:42:36.405996Z",
     "iopub.status.idle": "2024-10-21T15:42:36.531875Z",
     "shell.execute_reply": "2024-10-21T15:42:36.530704Z"
    },
    "papermill": {
     "duration": 0.143069,
     "end_time": "2024-10-21T15:42:36.534769",
     "exception": false,
     "start_time": "2024-10-21T15:42:36.391700",
     "status": "completed"
    },
    "tags": []
   },
   "outputs": [],
   "source": [
    "from sklearn.preprocessing import StandardScaler\n",
    "\n",
    "scaler = StandardScaler()\n",
    "\n",
    "X_train = scaler.fit_transform(X_train)\n",
    "# X_test = scaler.transform(X_test)\n",
    "df_valid  = scaler.transform(df_valid)"
   ]
  },
  {
   "cell_type": "code",
   "execution_count": 27,
   "id": "75455dc1",
   "metadata": {
    "execution": {
     "iopub.execute_input": "2024-10-21T15:42:36.563734Z",
     "iopub.status.busy": "2024-10-21T15:42:36.563347Z",
     "iopub.status.idle": "2024-10-21T15:42:36.568845Z",
     "shell.execute_reply": "2024-10-21T15:42:36.567755Z"
    },
    "papermill": {
     "duration": 0.022233,
     "end_time": "2024-10-21T15:42:36.571239",
     "exception": false,
     "start_time": "2024-10-21T15:42:36.549006",
     "status": "completed"
    },
    "tags": []
   },
   "outputs": [],
   "source": [
    "df_valid = pd.DataFrame(df_valid)"
   ]
  },
  {
   "cell_type": "code",
   "execution_count": 28,
   "id": "f22582da",
   "metadata": {
    "execution": {
     "iopub.execute_input": "2024-10-21T15:42:36.598959Z",
     "iopub.status.busy": "2024-10-21T15:42:36.598496Z",
     "iopub.status.idle": "2024-10-21T15:42:36.758909Z",
     "shell.execute_reply": "2024-10-21T15:42:36.757977Z"
    },
    "papermill": {
     "duration": 0.17724,
     "end_time": "2024-10-21T15:42:36.761535",
     "exception": false,
     "start_time": "2024-10-21T15:42:36.584295",
     "status": "completed"
    },
    "tags": []
   },
   "outputs": [],
   "source": [
    "from sklearn.metrics import roc_curve, roc_auc_score\n",
    "from sklearn.linear_model import LogisticRegression\n",
    "from sklearn.tree import DecisionTreeClassifier\n",
    "from sklearn.ensemble import RandomForestClassifier\n",
    "from sklearn.svm import SVC\n",
    "from sklearn.metrics import accuracy_score\n",
    "from xgboost import XGBClassifier\n",
    "\n",
    "# models = {\n",
    "#     'Logistic Regression': LogisticRegression(),\n",
    "#     'Decision Tree': DecisionTreeClassifier(),\n",
    "#     'Random Forest': RandomForestClassifier(),\n",
    "#     'SVM': SVC(),\n",
    "#     'XGBoost': XGBClassifier()\n",
    "# }\n",
    "\n",
    "# model_results = []\n",
    "\n",
    "# for model_name, model in models.items():\n",
    "#     model.fit(X_train, y_train)\n",
    "    \n",
    "#     y_pred = model.predict(X_test)\n",
    "    \n",
    "#     accuracy = accuracy_score(y_test, y_pred)\n",
    "    \n",
    "#     model_results.append({\n",
    "#         'Model': model_name,\n",
    "#         'Accuracy': accuracy\n",
    "#     })\n",
    "\n",
    "# model_results"
   ]
  },
  {
   "cell_type": "code",
   "execution_count": 29,
   "id": "f7746e9a",
   "metadata": {
    "execution": {
     "iopub.execute_input": "2024-10-21T15:42:36.789466Z",
     "iopub.status.busy": "2024-10-21T15:42:36.789060Z",
     "iopub.status.idle": "2024-10-21T15:42:36.794143Z",
     "shell.execute_reply": "2024-10-21T15:42:36.793113Z"
    },
    "papermill": {
     "duration": 0.021608,
     "end_time": "2024-10-21T15:42:36.796291",
     "exception": false,
     "start_time": "2024-10-21T15:42:36.774683",
     "status": "completed"
    },
    "tags": []
   },
   "outputs": [],
   "source": [
    "# from sklearn.model_selection import GridSearchCV\n",
    "\n",
    "# param_grid = {\n",
    "#     'max_depth': [3, 5, 7],\n",
    "#     'learning_rate': [0.01, 0.1, 0.3],\n",
    "#     'n_estimators': [100, 200, 300],\n",
    "# }\n",
    "\n",
    "# grid_search = GridSearchCV(estimator=XGBClassifier(use_label_encoder=False, eval_metric='logloss'), \n",
    "#                            param_grid=param_grid, \n",
    "#                            scoring='accuracy', \n",
    "#                            cv=5, \n",
    "#                            verbose=1)\n",
    "\n",
    "# grid_search.fit(X_train, y_train)\n",
    "\n",
    "# print(\"Best parameters:\", grid_search.best_params_)\n"
   ]
  },
  {
   "cell_type": "code",
   "execution_count": 30,
   "id": "008a9da9",
   "metadata": {
    "execution": {
     "iopub.execute_input": "2024-10-21T15:42:36.824198Z",
     "iopub.status.busy": "2024-10-21T15:42:36.823751Z",
     "iopub.status.idle": "2024-10-21T15:42:36.828466Z",
     "shell.execute_reply": "2024-10-21T15:42:36.827423Z"
    },
    "papermill": {
     "duration": 0.021201,
     "end_time": "2024-10-21T15:42:36.830677",
     "exception": false,
     "start_time": "2024-10-21T15:42:36.809476",
     "status": "completed"
    },
    "tags": []
   },
   "outputs": [],
   "source": [
    "# from xgboost import XGBClassifier\n",
    "# from sklearn.metrics import accuracy_score\n",
    "# from sklearn.metrics import roc_curve, roc_auc_score\n",
    "\n",
    "# xgb = XGBClassifier(use_label_encoder=False, eval_metric='logloss', learning_rate = 0.1, max_depth = 7, n_estimators = 100)\n",
    "# xgb.fit(X_train, y_train)\n",
    "# y_pred = xgb.predict(X_test)\n",
    "# accuracy = accuracy_score(y_test, y_pred)\n",
    "# accuracy"
   ]
  },
  {
   "cell_type": "code",
   "execution_count": 31,
   "id": "0511bd1f",
   "metadata": {
    "execution": {
     "iopub.execute_input": "2024-10-21T15:42:36.858531Z",
     "iopub.status.busy": "2024-10-21T15:42:36.858135Z",
     "iopub.status.idle": "2024-10-21T15:42:36.863120Z",
     "shell.execute_reply": "2024-10-21T15:42:36.861984Z"
    },
    "papermill": {
     "duration": 0.021642,
     "end_time": "2024-10-21T15:42:36.865362",
     "exception": false,
     "start_time": "2024-10-21T15:42:36.843720",
     "status": "completed"
    },
    "tags": []
   },
   "outputs": [],
   "source": [
    "# y_prob = xgb.predict_proba(X_test)[:, 1]  # Probability of the positive class (1)\n",
    "\n",
    "# # Step 3: Plot ROC curve\n",
    "# fpr, tpr, thresholds = roc_curve(y_test, y_prob)\n",
    "# plt.plot(fpr, tpr, label=\"ROC curve\")\n",
    "# plt.plot([0, 1], [0, 1], 'k--', label=\"Random guess\")  # Diagonal line\n",
    "# plt.xlabel(\"False Positive Rate\")\n",
    "# plt.ylabel(\"True Positive Rate (Recall)\")\n",
    "# plt.title(\"ROC Curve\")\n",
    "# plt.legend(loc=\"best\")\n",
    "# plt.show()\n",
    "\n",
    "# # Step 4: Calculate AUC\n",
    "# auc_score = roc_auc_score(y_test, y_prob)\n",
    "# auc_score"
   ]
  },
  {
   "cell_type": "code",
   "execution_count": 32,
   "id": "27326123",
   "metadata": {
    "execution": {
     "iopub.execute_input": "2024-10-21T15:42:36.892990Z",
     "iopub.status.busy": "2024-10-21T15:42:36.892575Z",
     "iopub.status.idle": "2024-10-21T15:42:36.897297Z",
     "shell.execute_reply": "2024-10-21T15:42:36.896217Z"
    },
    "papermill": {
     "duration": 0.021145,
     "end_time": "2024-10-21T15:42:36.899549",
     "exception": false,
     "start_time": "2024-10-21T15:42:36.878404",
     "status": "completed"
    },
    "tags": []
   },
   "outputs": [],
   "source": [
    "# model_results"
   ]
  },
  {
   "cell_type": "code",
   "execution_count": 33,
   "id": "c8118576",
   "metadata": {
    "execution": {
     "iopub.execute_input": "2024-10-21T15:42:36.927354Z",
     "iopub.status.busy": "2024-10-21T15:42:36.926916Z",
     "iopub.status.idle": "2024-10-21T15:42:36.931613Z",
     "shell.execute_reply": "2024-10-21T15:42:36.930567Z"
    },
    "papermill": {
     "duration": 0.02123,
     "end_time": "2024-10-21T15:42:36.933924",
     "exception": false,
     "start_time": "2024-10-21T15:42:36.912694",
     "status": "completed"
    },
    "tags": []
   },
   "outputs": [],
   "source": [
    "# output = pd.DataFrame({'id': df_valid.id,'loan_status': df_valid['loan_status']})\n",
    "# output.to_csv('submission.csv', index=False)"
   ]
  },
  {
   "cell_type": "code",
   "execution_count": 34,
   "id": "de9b3529",
   "metadata": {
    "execution": {
     "iopub.execute_input": "2024-10-21T15:42:36.961924Z",
     "iopub.status.busy": "2024-10-21T15:42:36.961481Z",
     "iopub.status.idle": "2024-10-21T15:42:36.966325Z",
     "shell.execute_reply": "2024-10-21T15:42:36.965283Z"
    },
    "papermill": {
     "duration": 0.021317,
     "end_time": "2024-10-21T15:42:36.968472",
     "exception": false,
     "start_time": "2024-10-21T15:42:36.947155",
     "status": "completed"
    },
    "tags": []
   },
   "outputs": [],
   "source": [
    "# output"
   ]
  },
  {
   "cell_type": "code",
   "execution_count": 35,
   "id": "85768fd1",
   "metadata": {
    "execution": {
     "iopub.execute_input": "2024-10-21T15:42:36.996813Z",
     "iopub.status.busy": "2024-10-21T15:42:36.996037Z",
     "iopub.status.idle": "2024-10-21T15:42:50.128969Z",
     "shell.execute_reply": "2024-10-21T15:42:50.127682Z"
    },
    "papermill": {
     "duration": 13.149991,
     "end_time": "2024-10-21T15:42:50.131542",
     "exception": false,
     "start_time": "2024-10-21T15:42:36.981551",
     "status": "completed"
    },
    "tags": []
   },
   "outputs": [],
   "source": [
    "!pip install catboost --quiet"
   ]
  },
  {
   "cell_type": "code",
   "execution_count": 36,
   "id": "af5b8246",
   "metadata": {
    "execution": {
     "iopub.execute_input": "2024-10-21T15:42:50.159960Z",
     "iopub.status.busy": "2024-10-21T15:42:50.159056Z",
     "iopub.status.idle": "2024-10-21T15:42:50.334325Z",
     "shell.execute_reply": "2024-10-21T15:42:50.333169Z"
    },
    "papermill": {
     "duration": 0.192395,
     "end_time": "2024-10-21T15:42:50.336985",
     "exception": false,
     "start_time": "2024-10-21T15:42:50.144590",
     "status": "completed"
    },
    "tags": []
   },
   "outputs": [],
   "source": [
    "import optuna\n",
    "from catboost import CatBoostClassifier, CatBoostRegressor, Pool\n",
    "from sklearn.model_selection import cross_val_score"
   ]
  },
  {
   "cell_type": "code",
   "execution_count": 37,
   "id": "b0f19fa5",
   "metadata": {
    "execution": {
     "iopub.execute_input": "2024-10-21T15:42:50.365302Z",
     "iopub.status.busy": "2024-10-21T15:42:50.364387Z",
     "iopub.status.idle": "2024-10-21T15:42:50.370392Z",
     "shell.execute_reply": "2024-10-21T15:42:50.369250Z"
    },
    "papermill": {
     "duration": 0.02258,
     "end_time": "2024-10-21T15:42:50.372709",
     "exception": false,
     "start_time": "2024-10-21T15:42:50.350129",
     "status": "completed"
    },
    "tags": []
   },
   "outputs": [],
   "source": [
    "# def objective(trial):\n",
    "#     # Suggest hyperparameters for CatBoostClassifier\n",
    "#     param = {\n",
    "#         'iterations': trial.suggest_int('iterations', 100, 1000),  # Number of boosting iterations\n",
    "#         'depth': trial.suggest_int('depth', 4, 10),  # Depth of the trees\n",
    "#         'learning_rate': trial.suggest_float('learning_rate', 0.01, 0.3),  # Learning rate\n",
    "#         'l2_leaf_reg': trial.suggest_float('l2_leaf_reg', 1e-5, 10),  # L2 regularization\n",
    "#         'border_count': trial.suggest_int('border_count', 32, 255),  # Number of splits for numeric features\n",
    "#         'bagging_temperature': trial.suggest_float('bagging_temperature', 0.0, 1.0),  # Bagging temperature\n",
    "#         'random_strength': trial.suggest_float('random_strength', 0.0, 10.0),  # Random strength\n",
    "#         'scale_pos_weight': trial.suggest_float('scale_pos_weight', 0.5, 2.0),  # For imbalanced classes\n",
    "#         'task_type': 'CPU',  # If you have a GPU, use 'GPU'\n",
    "#         'eval_metric': 'Accuracy',  # Evaluation metric (for classification)\n",
    "#         'verbose': 0,  # Verbose mode off\n",
    "#     }\n",
    "    \n",
    "#     # Initialize the CatBoostClassifier with the suggested hyperparameters\n",
    "#     model = CatBoostClassifier(**param)\n",
    "\n",
    "#     # Train the model\n",
    "#     model.fit(X_train, y_train)\n",
    "    \n",
    "#     # Predict on the test set\n",
    "#     y_pred = model.predict(X_test)\n",
    "    \n",
    "#     # Evaluate the accuracy\n",
    "#     auc_scores = cross_val_score(model, X_train, y_train, cv=5, scoring='roc_auc')\n",
    "    \n",
    "#     return auc_scores.mean()  # Return the evaluation metric for Optuna to maximize\n",
    "\n",
    "# # Create a study object and maximize accuracy\n",
    "# study = optuna.create_study(direction='maximize')\n",
    "# study.optimize(objective, n_trials=50)\n",
    "\n",
    "# # Print the best hyperparameters found by Optuna\n",
    "# print(\"Best hyperparameters:\", study.best_params)"
   ]
  },
  {
   "cell_type": "code",
   "execution_count": 38,
   "id": "9b922afc",
   "metadata": {
    "execution": {
     "iopub.execute_input": "2024-10-21T15:42:50.400927Z",
     "iopub.status.busy": "2024-10-21T15:42:50.400494Z",
     "iopub.status.idle": "2024-10-21T15:42:50.405949Z",
     "shell.execute_reply": "2024-10-21T15:42:50.404506Z"
    },
    "papermill": {
     "duration": 0.022253,
     "end_time": "2024-10-21T15:42:50.408292",
     "exception": false,
     "start_time": "2024-10-21T15:42:50.386039",
     "status": "completed"
    },
    "tags": []
   },
   "outputs": [],
   "source": [
    "# params = {'iterations': 479,\n",
    "#           'depth': 4,\n",
    "#           'learning_rate': 0.1848769699739462, \n",
    "#           'l2_leaf_reg': 3.0269030589006416,\n",
    "#           'border_count': 255,\n",
    "#           'bagging_temperature': 0.09480704285119582,\n",
    "#           'random_strength': 9.011716736975744, \n",
    "#           'scale_pos_weight': 1.8844087181714746}\n",
    "\n",
    "# model = CatBoostClassifier(**params)\n",
    "\n",
    "# model.fit(X_train, y_train, verbose = 0)\n",
    "# y_pred = model.predict(X_test)\n",
    "\n",
    "# print(\"Cv svore is: \", cross_val_score(model, X_train, y_train, cv=5, scoring='roc_auc'))\n",
    "# print(\"Auc score is: \", roc_auc_score(y_pred, y_test))\n",
    "\n"
   ]
  },
  {
   "cell_type": "code",
   "execution_count": 39,
   "id": "967dec92",
   "metadata": {
    "execution": {
     "iopub.execute_input": "2024-10-21T15:42:50.437686Z",
     "iopub.status.busy": "2024-10-21T15:42:50.437294Z",
     "iopub.status.idle": "2024-10-21T15:43:04.246482Z",
     "shell.execute_reply": "2024-10-21T15:43:04.245243Z"
    },
    "papermill": {
     "duration": 13.827555,
     "end_time": "2024-10-21T15:43:04.249478",
     "exception": false,
     "start_time": "2024-10-21T15:42:50.421923",
     "status": "completed"
    },
    "tags": []
   },
   "outputs": [
    {
     "name": "stdout",
     "output_type": "stream",
     "text": [
      "Cv svore is:  [0.94883623 0.94690216 0.94431066 0.9507507  0.9457718 ]\n"
     ]
    }
   ],
   "source": [
    "# #Final\n",
    "params = {'lambda': 0.0065466961116540275,\n",
    "          'alpha': 1.1645845783973294,\n",
    "          'learning_rate': 0.29948497255354056,\n",
    "          'n_estimators': 549,\n",
    "          'max_depth': 5,\n",
    "          'min_child_weight': 5, \n",
    "          'subsample': 0.9968858194825716, \n",
    "          'colsample_bytree': 0.8679717638642047}\n",
    "\n",
    "from xgboost import XGBClassifier\n",
    "xgb = XGBClassifier(**params)\n",
    "xgb.fit(X_train, y_train)\n",
    "\n",
    "print(\"Cv svore is: \",cross_val_score(xgb, X_train, y_train, cv=5, scoring='roc_auc'))\n",
    "y_pred = xgb.predict(df_valid)\n",
    "# print(\"Auc score is: \",roc_auc_score(y_pred2, y_test))"
   ]
  },
  {
   "cell_type": "code",
   "execution_count": 40,
   "id": "bc9a4fa2",
   "metadata": {
    "execution": {
     "iopub.execute_input": "2024-10-21T15:43:04.278545Z",
     "iopub.status.busy": "2024-10-21T15:43:04.277723Z",
     "iopub.status.idle": "2024-10-21T15:43:04.283772Z",
     "shell.execute_reply": "2024-10-21T15:43:04.282597Z"
    },
    "papermill": {
     "duration": 0.023162,
     "end_time": "2024-10-21T15:43:04.286211",
     "exception": false,
     "start_time": "2024-10-21T15:43:04.263049",
     "status": "completed"
    },
    "tags": []
   },
   "outputs": [],
   "source": [
    "# import xgboost as xgb\n",
    "# def objective(trial):\n",
    "#     # Suggest hyperparameters for XGBoost\n",
    "#     param = {\n",
    "#         'objective': 'binary:logistic',  # Binary classification\n",
    "#         'eval_metric': 'auc',  # Using AUC as the evaluation metric\n",
    "#         'booster': 'gbtree',\n",
    "#         'lambda': trial.suggest_loguniform('lambda', 1e-3, 10.0),  # L2 regularization\n",
    "#         'alpha': trial.suggest_loguniform('alpha', 1e-3, 10.0),  # L1 regularization\n",
    "#         'learning_rate': trial.suggest_float('learning_rate', 0.01, 0.3),  # Step size shrinkage\n",
    "#         'n_estimators': trial.suggest_int('n_estimators', 100, 1000),  # Number of trees\n",
    "#         'max_depth': trial.suggest_int('max_depth', 3, 10),  # Maximum depth of each tree\n",
    "#         'min_child_weight': trial.suggest_int('min_child_weight', 1, 10),  # Minimum sum of instance weight\n",
    "#         'subsample': trial.suggest_float('subsample', 0.5, 1.0),  # Subsample ratio of the training data\n",
    "#         'colsample_bytree': trial.suggest_float('colsample_bytree', 0.5, 1.0),  # Subsample ratio of columns\n",
    "#     }\n",
    "    \n",
    "#     # Create XGBoost DMatrix (for better memory efficiency)\n",
    "#     dtrain = xgb.DMatrix(X_train, label=y_train)\n",
    "#     dtest = xgb.DMatrix(X_test, label=y_test)\n",
    "\n",
    "#     # Train the XGBoost model with the suggested hyperparameters\n",
    "#     model = xgb.train(param, dtrain, evals=[(dtest, 'eval')], early_stopping_rounds=100, verbose_eval=False)\n",
    "    \n",
    "#     # Predict probabilities\n",
    "#     preds = model.predict(dtest)\n",
    "    \n",
    "#     # Calculate AUC\n",
    "#     auc = roc_auc_score(y_test, preds)\n",
    "    \n",
    "#     return auc\n",
    "\n",
    "# # Create a study object and maximize the AUC score\n",
    "# study = optuna.create_study(direction='maximize')\n",
    "# study.optimize(objective, n_trials=50)\n",
    "\n",
    "# # Print the best hyperparameters found by Optuna\n",
    "# print(\"Best hyperparameters:\", study.best_params)\n",
    "\n",
    "# # Print the best AUC score\n",
    "# print(f\"Best AUC score: {study.best_value:.4f}\")\n"
   ]
  },
  {
   "cell_type": "code",
   "execution_count": null,
   "id": "ce95c6ba",
   "metadata": {
    "papermill": {
     "duration": 0.012877,
     "end_time": "2024-10-21T15:43:04.312227",
     "exception": false,
     "start_time": "2024-10-21T15:43:04.299350",
     "status": "completed"
    },
    "tags": []
   },
   "outputs": [],
   "source": []
  },
  {
   "cell_type": "code",
   "execution_count": 41,
   "id": "f77a173c",
   "metadata": {
    "execution": {
     "iopub.execute_input": "2024-10-21T15:43:04.342719Z",
     "iopub.status.busy": "2024-10-21T15:43:04.341730Z",
     "iopub.status.idle": "2024-10-21T15:43:04.384080Z",
     "shell.execute_reply": "2024-10-21T15:43:04.383135Z"
    },
    "papermill": {
     "duration": 0.061174,
     "end_time": "2024-10-21T15:43:04.386598",
     "exception": false,
     "start_time": "2024-10-21T15:43:04.325424",
     "status": "completed"
    },
    "tags": []
   },
   "outputs": [],
   "source": [
    "df_valid['loan_status'] = y_pred\n",
    "df_valid['id'] = ids\n",
    "df_valid.head()\n",
    "output = pd.DataFrame({'id': df_valid.id,'loan_status': df_valid['loan_status']})\n",
    "output.to_csv('submission.csv', index=False)"
   ]
  },
  {
   "cell_type": "code",
   "execution_count": null,
   "id": "c9c2f6a5",
   "metadata": {
    "papermill": {
     "duration": 0.012957,
     "end_time": "2024-10-21T15:43:04.413143",
     "exception": false,
     "start_time": "2024-10-21T15:43:04.400186",
     "status": "completed"
    },
    "tags": []
   },
   "outputs": [],
   "source": []
  },
  {
   "cell_type": "code",
   "execution_count": null,
   "id": "770d0ef4",
   "metadata": {
    "papermill": {
     "duration": 0.012742,
     "end_time": "2024-10-21T15:43:04.438945",
     "exception": false,
     "start_time": "2024-10-21T15:43:04.426203",
     "status": "completed"
    },
    "tags": []
   },
   "outputs": [],
   "source": []
  },
  {
   "cell_type": "code",
   "execution_count": null,
   "id": "eca376a5",
   "metadata": {
    "papermill": {
     "duration": 0.012728,
     "end_time": "2024-10-21T15:43:04.464790",
     "exception": false,
     "start_time": "2024-10-21T15:43:04.452062",
     "status": "completed"
    },
    "tags": []
   },
   "outputs": [],
   "source": []
  },
  {
   "cell_type": "code",
   "execution_count": null,
   "id": "6ee832d3",
   "metadata": {
    "papermill": {
     "duration": 0.016255,
     "end_time": "2024-10-21T15:43:04.495376",
     "exception": false,
     "start_time": "2024-10-21T15:43:04.479121",
     "status": "completed"
    },
    "tags": []
   },
   "outputs": [],
   "source": []
  }
 ],
 "metadata": {
  "kaggle": {
   "accelerator": "none",
   "dataSources": [
    {
     "databundleVersionId": 9709193,
     "sourceId": 84894,
     "sourceType": "competition"
    }
   ],
   "dockerImageVersionId": 30786,
   "isGpuEnabled": false,
   "isInternetEnabled": true,
   "language": "python",
   "sourceType": "notebook"
  },
  "kernelspec": {
   "display_name": "Python 3",
   "language": "python",
   "name": "python3"
  },
  "language_info": {
   "codemirror_mode": {
    "name": "ipython",
    "version": 3
   },
   "file_extension": ".py",
   "mimetype": "text/x-python",
   "name": "python",
   "nbconvert_exporter": "python",
   "pygments_lexer": "ipython3",
   "version": "3.10.14"
  },
  "papermill": {
   "default_parameters": {},
   "duration": 39.388765,
   "end_time": "2024-10-21T15:43:05.330399",
   "environment_variables": {},
   "exception": null,
   "input_path": "__notebook__.ipynb",
   "output_path": "__notebook__.ipynb",
   "parameters": {},
   "start_time": "2024-10-21T15:42:25.941634",
   "version": "2.6.0"
  }
 },
 "nbformat": 4,
 "nbformat_minor": 5
}
